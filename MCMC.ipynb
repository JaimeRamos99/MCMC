{
  "nbformat": 4,
  "nbformat_minor": 0,
  "metadata": {
    "colab": {
      "name": "MCMC.ipynb",
      "provenance": []
    },
    "kernelspec": {
      "name": "python3",
      "display_name": "Python 3"
    }
  },
  "cells": [
    {
      "cell_type": "markdown",
      "metadata": {
        "id": "3wLicpBps0Km"
      },
      "source": [
        "#**MCMC**"
      ]
    },
    {
      "cell_type": "markdown",
      "metadata": {
        "id": "ji7SuSz6szl3"
      },
      "source": [
        "##${f(x)} = {(\\frac{{x^{c-1}}}{𝛤(c)b^c})}^{\\frac{-x}{b}}$"
      ]
    },
    {
      "cell_type": "markdown",
      "metadata": {
        "id": "TmhMp0B8s6l4"
      },
      "source": [
        "**Importing libraries**"
      ]
    },
    {
      "cell_type": "code",
      "metadata": {
        "id": "baHUZljKsssM"
      },
      "source": [
        "import numpy as np\r\n",
        "import random\r\n",
        "import scipy.special as ss\r\n",
        "import pylab as pl"
      ],
      "execution_count": 8,
      "outputs": []
    },
    {
      "cell_type": "code",
      "metadata": {
        "id": "j_nI7Cn1tATL"
      },
      "source": [
        "def gamma_value(c):\r\n",
        "  return ss.gamma(c)"
      ],
      "execution_count": 2,
      "outputs": []
    },
    {
      "cell_type": "code",
      "metadata": {
        "id": "bgUwRvxDtALQ"
      },
      "source": [
        "def my_gamma(x,c,b):\r\n",
        "  num = x**(c-1)\r\n",
        "  gv = gamma_value(c)\r\n",
        "  deno = gv*(b)**c\r\n",
        "  ex = -1*x/b\r\n",
        "  return (num/deno)**ex"
      ],
      "execution_count": 3,
      "outputs": []
    },
    {
      "cell_type": "code",
      "metadata": {
        "id": "pYWcC_Kls_7N"
      },
      "source": [
        "def random_coin(p):\r\n",
        "    unif = random.uniform(0,1)\r\n",
        "    if unif>=p:\r\n",
        "        return False \r\n",
        "    else:\r\n",
        "        return True"
      ],
      "execution_count": 4,
      "outputs": []
    },
    {
      "cell_type": "code",
      "metadata": {
        "id": "giYGbyA3s_wC"
      },
      "source": [
        "def gamma_mcmc(n,c,b):\r\n",
        "  states = []\r\n",
        "  cur = random.uniform(0,20)\r\n",
        "  for i in range(n):\r\n",
        "    states.append(cur)\r\n",
        "    next = random.uniform(0,20)\r\n",
        "    val = my_gamma(next,c,b)/my_gamma(cur,c,b)\r\n",
        "    ap = min(val,1)\r\n",
        "    if random_coin(ap):\r\n",
        "      cur = next\r\n",
        "  return states[-1000:]"
      ],
      "execution_count": 5,
      "outputs": []
    },
    {
      "cell_type": "code",
      "metadata": {
        "id": "9NN4td1Ws_iI"
      },
      "source": [
        "def plot_gamma(c,b):\r\n",
        "  pl.hist(gamma_mcmc(1000,c,b), density=True,bins =25, histtype='step',label=\"Simulated_MCMC: b=\"+str(b)+\", c=\"+str(c))\r\n",
        "  pl.show()"
      ],
      "execution_count": 6,
      "outputs": []
    },
    {
      "cell_type": "code",
      "metadata": {
        "colab": {
          "base_uri": "https://localhost:8080/",
          "height": 513
        },
        "id": "Ka9epLSktTDA",
        "outputId": "908eac5b-67f9-4e2b-978a-1c9d38bdf7dd"
      },
      "source": [
        "  c = 3\r\n",
        "  b = 5\r\n",
        "  plot_gamma(c,b)\r\n",
        "  Ly = []\r\n",
        "  Lx = []\r\n",
        "  listt = np.mgrid[0:20:1000j]\r\n",
        "  for i in listt:\r\n",
        "    Lx.append(i)\r\n",
        "    Ly.append(my_gamma(i,c,b))\r\n",
        "\r\n",
        "  pl.plot(Lx, Ly, label=\"Real Distribution: c=\"+str(c)+\", b=\"+str(b))\r\n",
        "  pl.legend()\r\n",
        "  pl.show()"
      ],
      "execution_count": 9,
      "outputs": [
        {
          "output_type": "display_data",
          "data": {
            "image/png": "[encoded data removed]",
            "text/plain": [
              "<Figure size 432x288 with 1 Axes>"
            ]
          },
          "metadata": {
            "tags": [],
            "needs_background": "light"
          }
        },
        {
          "output_type": "display_data",
          "data": {
            "image/png": "[encoded data removed]",
            "text/plain": [
              "<Figure size 432x288 with 1 Axes>"
            ]
          },
          "metadata": {
            "tags": [],
            "needs_background": "light"
          }
        }
      ]
    },
    {
      "cell_type": "markdown",
      "metadata": {
        "id": "lW3ff-D_tWO1"
      },
      "source": [
        "**MCMC function adapted to the last item of this problem**, i decided to create a new one because the original MCMC return a different param than the required here and also there are few validations that one method has and the other does not."
      ]
    },
    {
      "cell_type": "code",
      "metadata": {
        "id": "y4Nyx_v0tW8A"
      },
      "source": [
        "def gamma_mcmc2(n,c,b):\r\n",
        "  top = -1\r\n",
        "  states = []\r\n",
        "  cur = random.uniform(0,20)\r\n",
        "  for i in range(n):\r\n",
        "    states.append(cur)\r\n",
        "    if cur > top:\r\n",
        "      top = cur\r\n",
        "    next = random.uniform(0,20)\r\n",
        "    val = my_gamma(next,c,b)/my_gamma(cur,c,b)\r\n",
        "    ap = min(val,1)\r\n",
        "    if random_coin(ap):\r\n",
        "      cur = next\r\n",
        "  return top"
      ],
      "execution_count": 10,
      "outputs": []
    },
    {
      "cell_type": "code",
      "metadata": {
        "colab": {
          "base_uri": "https://localhost:8080/"
        },
        "id": "7lwNQPW9tiRc",
        "outputId": "6561f8e7-ce24-4ff2-c545-b4fcf6caff30"
      },
      "source": [
        "n = 100\r\n",
        "iterations_inside_MCMC = 1000\r\n",
        "sum = 0\r\n",
        "for i in range(n):\r\n",
        "  sum = sum + gamma_mcmc2(iterations_inside_MCMC, c, b)\r\n",
        "print(\"The average max value of the MCMC is\", sum/n)"
      ],
      "execution_count": 11,
      "outputs": [
        {
          "output_type": "stream",
          "text": [
            "The average max value of the MCMC is 19.474944919434478\n"
          ],
          "name": "stdout"
        }
      ]
    },
    {
      "cell_type": "markdown",
      "metadata": {
        "id": "0L0CHb9ttmB8"
      },
      "source": [
        "**Conclusion**"
      ]
    },
    {
      "cell_type": "markdown",
      "metadata": {
        "id": "IEs_2pmRto2S"
      },
      "source": [
        "Through MCMC method we can approximate the behaviour of some functions without a lot of computational resources. Also this method is really intuitive."
      ]
    }
  ]
}